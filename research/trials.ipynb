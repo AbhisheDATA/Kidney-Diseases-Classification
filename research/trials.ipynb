{
 "cells": [
  {
   "cell_type": "code",
   "execution_count": 1,
   "metadata": {},
   "outputs": [
    {
     "name": "stdout",
     "output_type": "stream",
     "text": [
      "TensorFlow version: 2.12.0\n"
     ]
    }
   ],
   "source": [
    "import tensorflow as tf\n",
    "\n",
    "print(\"TensorFlow version:\", tf.__version__)\n"
   ]
  },
  {
   "cell_type": "code",
   "execution_count": 2,
   "metadata": {},
   "outputs": [
    {
     "name": "stdout",
     "output_type": "stream",
     "text": [
      "[]\n"
     ]
    }
   ],
   "source": [
    "print(tf.config.list_physical_devices('GPU'))"
   ]
  },
  {
   "cell_type": "code",
   "execution_count": 1,
   "metadata": {},
   "outputs": [
    {
     "data": {
      "text/plain": [
       "'c:\\\\Users\\\\Public\\\\Documents\\\\Project\\\\Kidney-Diseases-Classification'"
      ]
     },
     "execution_count": 1,
     "metadata": {},
     "output_type": "execute_result"
    }
   ],
   "source": [
    "import numpy as np\n",
    "from tensorflow.keras.models import load_model\n",
    "from tensorflow.keras.preprocessing import image\n",
    "import os\n",
    "os.chdir(\"../\")\n",
    "%pwd"
   ]
  },
  {
   "cell_type": "code",
   "execution_count": 10,
   "metadata": {},
   "outputs": [
    {
     "name": "stdout",
     "output_type": "stream",
     "text": [
      "1/1 [==============================] - 0s 317ms/step\n",
      "[[0.08321677 0.9167833 ]]\n",
      "1/1 [==============================] - 0s 199ms/step\n",
      "Predicted class index: [1]\n",
      "Tumor\n"
     ]
    }
   ],
   "source": [
    "model = load_model(os.path.join(\"artifacts\",\"training\", \"model.h5\"))\n",
    "\n",
    "import numpy as np\n",
    "import os\n",
    "from pathlib import Path\n",
    "\n",
    "# Prompt the user to enter the image file path\n",
    "image_path = Path(\"C:/Users/Public/Documents/Project/Kidney-Diseases-Classification/inputImage.jpg\")\n",
    "\n",
    "# Check if the specified file exists\n",
    "if os.path.exists(image_path):\n",
    "    # Load and process the image\n",
    "    test_image = image.load_img(image_path, target_size=(224, 224))  # Adjust target_size as needed\n",
    "    test_image = image.img_to_array(test_image)\n",
    "    test_image = np.expand_dims(test_image, axis=0)\n",
    "    result=model.predict(test_image)\n",
    "    print(result)\n",
    "    \n",
    "\n",
    "    # Assuming `model` is already defined\n",
    "    result = np.argmax(model.predict(test_image), axis=1)\n",
    "    \n",
    "    print(\"Predicted class index:\", result)\n",
    "else:\n",
    "    print(\"The specified image file does not exist.\")\n",
    "\n",
    "\n",
    "if result[0] == 1:\n",
    "    prediction = 'Tumor'\n",
    "    print(\"Tumor\")\n",
    "else:\n",
    "    prediction = 'Normal'\n",
    "    print(\"normal\")\n",
    "\n"
   ]
  },
  {
   "cell_type": "code",
   "execution_count": 22,
   "metadata": {},
   "outputs": [
    {
     "ename": "SyntaxError",
     "evalue": "invalid syntax (691784184.py, line 3)",
     "output_type": "error",
     "traceback": [
      "\u001b[1;36m  Cell \u001b[1;32mIn[22], line 3\u001b[1;36m\u001b[0m\n\u001b[1;33m    array = np.array([[1. 0.]])\u001b[0m\n\u001b[1;37m                          ^\u001b[0m\n\u001b[1;31mSyntaxError\u001b[0m\u001b[1;31m:\u001b[0m invalid syntax\n"
     ]
    }
   ],
   "source": [
    "import numpy as np\n",
    "\n",
    "array = np.array([[1. 0.]])\n",
    "index_of_maximum_value = np.argmax(array)\n",
    "\n",
    "print(\"Index of the maximum value:\", index_of_maximum_value)\n"
   ]
  },
  {
   "cell_type": "code",
   "execution_count": null,
   "metadata": {},
   "outputs": [],
   "source": []
  }
 ],
 "metadata": {
  "kernelspec": {
   "display_name": "py310",
   "language": "python",
   "name": "python3"
  },
  "language_info": {
   "codemirror_mode": {
    "name": "ipython",
    "version": 3
   },
   "file_extension": ".py",
   "mimetype": "text/x-python",
   "name": "python",
   "nbconvert_exporter": "python",
   "pygments_lexer": "ipython3",
   "version": "3.8.18"
  }
 },
 "nbformat": 4,
 "nbformat_minor": 2
}
