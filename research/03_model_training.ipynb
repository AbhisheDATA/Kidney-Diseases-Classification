{
 "cells": [
  {
   "cell_type": "code",
   "execution_count": 1,
   "metadata": {},
   "outputs": [
    {
     "data": {
      "text/plain": [
       "'c:\\\\Users\\\\Public\\\\Documents\\\\Project\\\\Kidney-Diseases-Classification\\\\research'"
      ]
     },
     "execution_count": 1,
     "metadata": {},
     "output_type": "execute_result"
    }
   ],
   "source": [
    "import os\n",
    "%pwd"
   ]
  },
  {
   "cell_type": "code",
   "execution_count": 2,
   "metadata": {},
   "outputs": [
    {
     "data": {
      "text/plain": [
       "'c:\\\\Users\\\\Public\\\\Documents\\\\Project\\\\Kidney-Diseases-Classification'"
      ]
     },
     "execution_count": 2,
     "metadata": {},
     "output_type": "execute_result"
    }
   ],
   "source": [
    "os.chdir(\"../\")\n",
    "%pwd"
   ]
  },
  {
   "cell_type": "code",
   "execution_count": 17,
   "metadata": {},
   "outputs": [],
   "source": [
    "from dataclasses import dataclass\n",
    "from pathlib import Path\n",
    "\n",
    "\n",
    "@dataclass(frozen=True)\n",
    "class TrainingConfig:\n",
    "    root_dir: Path\n",
    "    trained_model_path: Path\n",
    "    updated_base_model_path: Path\n",
    "    training_data: Path\n",
    "    params_epochs: int\n",
    "    params_batch_size: int\n",
    "    params_is_augmentation: bool\n",
    "    params_image_size: list"
   ]
  },
  {
   "cell_type": "code",
   "execution_count": 18,
   "metadata": {},
   "outputs": [],
   "source": [
    "from kidney_diseases_classification.constants import *\n",
    "from kidney_diseases_classification.utils.common import read_yaml, create_directories\n",
    "import tensorflow as tf"
   ]
  },
  {
   "cell_type": "code",
   "execution_count": 19,
   "metadata": {},
   "outputs": [],
   "source": [
    "class ConfigurationManager:\n",
    "    def __init__(\n",
    "        self,\n",
    "        config_filepath = CONFIG_FILE_PATH,\n",
    "        params_filepath = PARAMS_FILE_PATH):\n",
    "\n",
    "        self.config = read_yaml(config_filepath)\n",
    "        self.params = read_yaml(params_filepath)\n",
    "\n",
    "        create_directories([self.config.artifacts_root])\n",
    "\n",
    "\n",
    "    \n",
    "    def get_training_config(self) -> TrainingConfig:\n",
    "        training = self.config.training\n",
    "        prepare_base_model = self.config.prepare_base_model\n",
    "        params = self.params\n",
    "        training_data = os.path.join(self.config.data_ingestion.unzip_dir, \"kidney-ct-scan-image\")\n",
    "        create_directories([\n",
    "            Path(training.root_dir)\n",
    "        ])\n",
    "\n",
    "        training_config = TrainingConfig(\n",
    "            root_dir=Path(training.root_dir),\n",
    "            trained_model_path=Path(training.trained_model_path),\n",
    "            updated_base_model_path=Path(prepare_base_model.updated_base_model_path),\n",
    "            training_data=Path(training_data),\n",
    "            params_epochs=params.EPOCHS,\n",
    "            params_batch_size=params.BATCH_SIZE,\n",
    "            params_is_augmentation=params.AUGMENTATION,\n",
    "            params_image_size=params.IMAGE_SIZE\n",
    "        )\n",
    "\n",
    "        return training_config"
   ]
  },
  {
   "cell_type": "code",
   "execution_count": 20,
   "metadata": {},
   "outputs": [],
   "source": [
    "import os\n",
    "import urllib.request as request\n",
    "from zipfile import ZipFile\n",
    "import tensorflow as tf\n",
    "import time"
   ]
  },
  {
   "cell_type": "code",
   "execution_count": 21,
   "metadata": {},
   "outputs": [],
   "source": [
    "class Training:\n",
    "    def __init__(self, config: TrainingConfig):\n",
    "        self.config = config\n",
    "\n",
    "    \n",
    "    def get_base_model(self):\n",
    "        self.model = tf.keras.models.load_model(\n",
    "            self.config.updated_base_model_path\n",
    "        )\n",
    "\n",
    "    def train_valid_generator(self):\n",
    "\n",
    "        datagenerator_kwargs = dict(\n",
    "            rescale = 1./255,\n",
    "            validation_split=0.20\n",
    "        )\n",
    "\n",
    "        dataflow_kwargs = dict(\n",
    "            target_size=self.config.params_image_size[:-1],\n",
    "            batch_size=self.config.params_batch_size,\n",
    "            interpolation=\"bilinear\"\n",
    "        )\n",
    "\n",
    "        valid_datagenerator = tf.keras.preprocessing.image.ImageDataGenerator(\n",
    "            **datagenerator_kwargs\n",
    "        )\n",
    "\n",
    "        self.valid_generator = valid_datagenerator.flow_from_directory(\n",
    "            directory=self.config.training_data,\n",
    "            subset=\"validation\",\n",
    "            shuffle=False,\n",
    "            **dataflow_kwargs\n",
    "        )\n",
    "\n",
    "        if self.config.params_is_augmentation:\n",
    "            train_datagenerator = tf.keras.preprocessing.image.ImageDataGenerator(\n",
    "                rotation_range=40,\n",
    "                horizontal_flip=True,\n",
    "                width_shift_range=0.2,\n",
    "                height_shift_range=0.2,\n",
    "                shear_range=0.2,\n",
    "                zoom_range=0.2,\n",
    "                **datagenerator_kwargs\n",
    "            )\n",
    "        else:\n",
    "            train_datagenerator = valid_datagenerator\n",
    "\n",
    "        self.train_generator = train_datagenerator.flow_from_directory(\n",
    "            directory=self.config.training_data,\n",
    "            subset=\"training\",\n",
    "            shuffle=True,\n",
    "            **dataflow_kwargs\n",
    "        )\n",
    "\n",
    "    \n",
    "    @staticmethod\n",
    "    def save_model(path: Path, model: tf.keras.Model):\n",
    "        model.save(path)\n",
    "\n",
    "\n",
    "\n",
    "    \n",
    "    def train(self):\n",
    "        self.steps_per_epoch = self.train_generator.samples // self.train_generator.batch_size\n",
    "        self.validation_steps = self.valid_generator.samples // self.valid_generator.batch_size\n",
    "\n",
    "        self.model.fit(\n",
    "            self.train_generator,\n",
    "            epochs=self.config.params_epochs,\n",
    "            steps_per_epoch=self.steps_per_epoch,\n",
    "            validation_steps=self.validation_steps,\n",
    "            validation_data=self.valid_generator\n",
    "        )\n",
    "\n",
    "        self.save_model(\n",
    "            path=self.config.trained_model_path,\n",
    "            model=self.model\n",
    "        )"
   ]
  },
  {
   "cell_type": "code",
   "execution_count": 23,
   "metadata": {},
   "outputs": [
    {
     "name": "stdout",
     "output_type": "stream",
     "text": [
      "[2023-10-16 10:59:17,751: INFO: common: yaml file: config\\config.yaml loaded successfully]\n",
      "[2023-10-16 10:59:17,755: INFO: common: yaml file: params.yaml loaded successfully]\n",
      "[2023-10-16 10:59:17,757: INFO: common: created directory at: artifacts]\n",
      "[2023-10-16 10:59:17,758: INFO: common: created directory at: artifacts\\training]\n",
      "Found 93 images belonging to 2 classes.\n",
      "Found 372 images belonging to 2 classes.\n",
      "Epoch 1/20\n",
      "23/23 [==============================] - 51s 2s/step - loss: 11.0434 - accuracy: 0.5927 - val_loss: 14.3258 - val_accuracy: 0.4750\n",
      "Epoch 2/20\n",
      "23/23 [==============================] - 39s 2s/step - loss: 4.9563 - accuracy: 0.7022 - val_loss: 40.8048 - val_accuracy: 0.4000\n",
      "Epoch 3/20\n",
      "23/23 [==============================] - 78s 3s/step - loss: 3.6259 - accuracy: 0.7416 - val_loss: 6.6567 - val_accuracy: 0.4375\n",
      "Epoch 4/20\n",
      "23/23 [==============================] - 29s 1s/step - loss: 4.7972 - accuracy: 0.7444 - val_loss: 0.6238 - val_accuracy: 0.8750\n",
      "Epoch 5/20\n",
      "23/23 [==============================] - 31s 1s/step - loss: 2.5131 - accuracy: 0.7697 - val_loss: 10.6596 - val_accuracy: 0.4750\n",
      "Epoch 6/20\n",
      "23/23 [==============================] - 36s 1s/step - loss: 1.1107 - accuracy: 0.8820 - val_loss: 0.0176 - val_accuracy: 1.0000\n",
      "Epoch 7/20\n",
      "23/23 [==============================] - 29s 1s/step - loss: 2.3035 - accuracy: 0.8146 - val_loss: 0.4758 - val_accuracy: 0.8875\n",
      "Epoch 8/20\n",
      "23/23 [==============================] - 32s 1s/step - loss: 0.8673 - accuracy: 0.8848 - val_loss: 0.0316 - val_accuracy: 0.9750\n",
      "Epoch 9/20\n",
      "23/23 [==============================] - 30s 1s/step - loss: 4.1491 - accuracy: 0.7697 - val_loss: 0.1736 - val_accuracy: 0.9625\n",
      "Epoch 10/20\n",
      "23/23 [==============================] - 91s 4s/step - loss: 1.6601 - accuracy: 0.8567 - val_loss: 0.0602 - val_accuracy: 0.9625\n",
      "Epoch 11/20\n",
      "23/23 [==============================] - 28s 1s/step - loss: 0.8730 - accuracy: 0.8764 - val_loss: 0.3269 - val_accuracy: 0.9500\n",
      "Epoch 12/20\n",
      "23/23 [==============================] - 30s 1s/step - loss: 0.6208 - accuracy: 0.9022 - val_loss: 3.0820e-04 - val_accuracy: 1.0000\n",
      "Epoch 13/20\n",
      "23/23 [==============================] - 30s 1s/step - loss: 0.3013 - accuracy: 0.9466 - val_loss: 0.0295 - val_accuracy: 0.9750\n",
      "Epoch 14/20\n",
      "23/23 [==============================] - 30s 1s/step - loss: 0.1900 - accuracy: 0.9551 - val_loss: 0.0142 - val_accuracy: 1.0000\n",
      "Epoch 15/20\n",
      "23/23 [==============================] - 29s 1s/step - loss: 0.1267 - accuracy: 0.9719 - val_loss: 1.1139e-05 - val_accuracy: 1.0000\n",
      "Epoch 16/20\n",
      "23/23 [==============================] - 30s 1s/step - loss: 1.0708 - accuracy: 0.8736 - val_loss: 11.7735 - val_accuracy: 0.6000\n",
      "Epoch 17/20\n",
      "23/23 [==============================] - 29s 1s/step - loss: 0.9870 - accuracy: 0.9242 - val_loss: 5.1139e-05 - val_accuracy: 1.0000\n",
      "Epoch 18/20\n",
      "23/23 [==============================] - 29s 1s/step - loss: 0.2406 - accuracy: 0.9466 - val_loss: 4.4470e-05 - val_accuracy: 1.0000\n",
      "Epoch 19/20\n",
      "23/23 [==============================] - 30s 1s/step - loss: 0.0985 - accuracy: 0.9663 - val_loss: 4.1693e-06 - val_accuracy: 1.0000\n",
      "Epoch 20/20\n",
      "23/23 [==============================] - 29s 1s/step - loss: 2.2960 - accuracy: 0.8596 - val_loss: 0.0098 - val_accuracy: 1.0000\n"
     ]
    }
   ],
   "source": [
    "try:\n",
    "    config = ConfigurationManager()\n",
    "    training_config = config.get_training_config()\n",
    "    training = Training(config=training_config)\n",
    "    training.get_base_model()\n",
    "    training.train_valid_generator()\n",
    "    training.train()\n",
    "    \n",
    "except Exception as e:\n",
    "    raise e"
   ]
  }
 ],
 "metadata": {
  "kernelspec": {
   "display_name": "kidney",
   "language": "python",
   "name": "python3"
  },
  "language_info": {
   "codemirror_mode": {
    "name": "ipython",
    "version": 3
   },
   "file_extension": ".py",
   "mimetype": "text/x-python",
   "name": "python",
   "nbconvert_exporter": "python",
   "pygments_lexer": "ipython3",
   "version": "3.8.18"
  }
 },
 "nbformat": 4,
 "nbformat_minor": 2
}
